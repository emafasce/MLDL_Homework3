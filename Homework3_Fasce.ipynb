{
  "nbformat": 4,
  "nbformat_minor": 0,
  "metadata": {
    "accelerator": "GPU",
    "colab": {
      "name": "Homework3_Fasce.ipynb",
      "provenance": [],
      "collapsed_sections": [],
      "toc_visible": true,
      "machine_shape": "hm"
    },
    "kernelspec": {
      "display_name": "Python 3",
      "name": "python3"
    }
  },
  "cells": [
    {
      "cell_type": "markdown",
      "metadata": {
        "id": "c9QcGnGPdX2C"
      },
      "source": [
        "\n",
        "**Install requirements**"
      ]
    },
    {
      "cell_type": "code",
      "metadata": {
        "colab": {
          "base_uri": "https://localhost:8080/",
          "height": 987
        },
        "id": "k9O3aM3Tb28q",
        "outputId": "686812b3-39e0-47fe-db36-de77c8ffb301"
      },
      "source": [
        "!python -m pip install -U pip\n",
        "!pip3 install 'torch==1.3.1'\n",
        "!pip3 install 'torchvision==0.5.0'\n",
        "!pip3 install 'Pillow-SIMD'\n",
        "!pip3 install 'tqdm'"
      ],
      "execution_count": null,
      "outputs": [
        {
          "output_type": "stream",
          "text": [
            "Collecting pip\n",
            "\u001b[?25l  Downloading https://files.pythonhosted.org/packages/54/eb/4a3642e971f404d69d4f6fa3885559d67562801b99d7592487f1ecc4e017/pip-20.3.3-py2.py3-none-any.whl (1.5MB)\n",
            "\u001b[K     |████████████████████████████████| 1.5MB 4.4MB/s \n",
            "\u001b[?25hInstalling collected packages: pip\n",
            "  Found existing installation: pip 19.3.1\n",
            "    Uninstalling pip-19.3.1:\n",
            "      Successfully uninstalled pip-19.3.1\n",
            "Successfully installed pip-20.3.3\n",
            "Collecting torch==1.3.1\n",
            "  Downloading torch-1.3.1-cp36-cp36m-manylinux1_x86_64.whl (734.6 MB)\n",
            "\u001b[K     |████████████████████████████████| 734.6 MB 22 kB/s \n",
            "\u001b[?25hRequirement already satisfied: numpy in /usr/local/lib/python3.6/dist-packages (from torch==1.3.1) (1.19.4)\n",
            "Installing collected packages: torch\n",
            "  Attempting uninstall: torch\n",
            "    Found existing installation: torch 1.7.0+cu101\n",
            "    Uninstalling torch-1.7.0+cu101:\n",
            "      Successfully uninstalled torch-1.7.0+cu101\n",
            "\u001b[31mERROR: pip's dependency resolver does not currently take into account all the packages that are installed. This behaviour is the source of the following dependency conflicts.\n",
            "torchvision 0.8.1+cu101 requires torch==1.7.0, but you have torch 1.3.1 which is incompatible.\u001b[0m\n",
            "Successfully installed torch-1.3.1\n",
            "Collecting torchvision==0.5.0\n",
            "  Downloading torchvision-0.5.0-cp36-cp36m-manylinux1_x86_64.whl (4.0 MB)\n",
            "\u001b[K     |████████████████████████████████| 4.0 MB 5.9 MB/s \n",
            "\u001b[?25hRequirement already satisfied: six in /usr/local/lib/python3.6/dist-packages (from torchvision==0.5.0) (1.15.0)\n",
            "Requirement already satisfied: numpy in /usr/local/lib/python3.6/dist-packages (from torchvision==0.5.0) (1.19.4)\n",
            "Requirement already satisfied: pillow>=4.1.1 in /usr/local/lib/python3.6/dist-packages (from torchvision==0.5.0) (7.0.0)\n",
            "Collecting torch==1.4.0\n",
            "  Downloading torch-1.4.0-cp36-cp36m-manylinux1_x86_64.whl (753.4 MB)\n",
            "\u001b[K     |████████████████████████████████| 753.4 MB 21 kB/s \n",
            "\u001b[?25hInstalling collected packages: torch, torchvision\n",
            "  Attempting uninstall: torch\n",
            "    Found existing installation: torch 1.3.1\n",
            "    Uninstalling torch-1.3.1:\n",
            "      Successfully uninstalled torch-1.3.1\n",
            "  Attempting uninstall: torchvision\n",
            "    Found existing installation: torchvision 0.8.1+cu101\n",
            "    Uninstalling torchvision-0.8.1+cu101:\n",
            "      Successfully uninstalled torchvision-0.8.1+cu101\n",
            "Successfully installed torch-1.4.0 torchvision-0.5.0\n",
            "Collecting Pillow-SIMD\n",
            "  Downloading Pillow-SIMD-7.0.0.post3.tar.gz (630 kB)\n",
            "\u001b[K     |████████████████████████████████| 630 kB 4.4 MB/s \n",
            "\u001b[?25hBuilding wheels for collected packages: Pillow-SIMD\n",
            "  Building wheel for Pillow-SIMD (setup.py) ... \u001b[?25l\u001b[?25hdone\n",
            "  Created wheel for Pillow-SIMD: filename=Pillow_SIMD-7.0.0.post3-cp36-cp36m-linux_x86_64.whl size=1110313 sha256=86cbb33933ac72081a5a4111b5100b54a5b6e0b8c196431bca729a2a3c8f4918\n",
            "  Stored in directory: /root/.cache/pip/wheels/54/a4/d6/6a2877ff61c41f6cbeced16ca150601820ed3f8b27cb7faf8d\n",
            "Successfully built Pillow-SIMD\n",
            "Installing collected packages: Pillow-SIMD\n",
            "Successfully installed Pillow-SIMD-7.0.0.post3\n"
          ],
          "name": "stdout"
        },
        {
          "output_type": "display_data",
          "data": {
            "application/vnd.colab-display-data+json": {
              "pip_warning": {
                "packages": [
                  "PIL"
                ]
              }
            }
          },
          "metadata": {
            "tags": []
          }
        },
        {
          "output_type": "stream",
          "text": [
            "Requirement already satisfied: tqdm in /usr/local/lib/python3.6/dist-packages (4.41.1)\n"
          ],
          "name": "stdout"
        }
      ]
    },
    {
      "cell_type": "markdown",
      "metadata": {
        "id": "fo942LMOdlh4"
      },
      "source": [
        "**Import libraries**"
      ]
    },
    {
      "cell_type": "code",
      "metadata": {
        "id": "DokFOdD1dJEl"
      },
      "source": [
        "import os\n",
        "import logging\n",
        "\n",
        "import torch\n",
        "import torch.nn as nn\n",
        "import torch.optim as optim\n",
        "from torch.utils.data import Subset, DataLoader\n",
        "from torch.backends import cudnn\n",
        "\n",
        "import torchvision\n",
        "from torchvision import transforms\n",
        "from torchvision.models import alexnet\n",
        "\n",
        "from PIL import Image\n",
        "from tqdm import tqdm\n",
        "from torchvision.models.utils import load_state_dict_from_url\n",
        "from torch.autograd import Function\n",
        "from torchvision.datasets import VisionDataset\n",
        "import matplotlib.pyplot as plt\n",
        "import math\n"
      ],
      "execution_count": null,
      "outputs": []
    },
    {
      "cell_type": "markdown",
      "metadata": {
        "id": "vOECtGaLD35M"
      },
      "source": [
        "**Function used to plot the loss and accuracy**"
      ]
    },
    {
      "cell_type": "code",
      "metadata": {
        "id": "wA0R4uWfhbhd"
      },
      "source": [
        "def plotting(loss_train, loss_val, acc_train, acc_val):\n",
        "\n",
        "  epochs=len(loss_train)\n",
        "  x=[i+1 for i in range(epochs)]\n",
        "  x_div=int(epochs/6)\n",
        "  xdisp=[i for i in range(epochs) if i%x_div==1]\n",
        "  \n",
        "  plt.figure()\n",
        "  plt.plot(x, loss_train, 'r', label='Training loss')\n",
        "  plt.plot(x, loss_val, 'b', label='Test loss')\n",
        "  plt.legend()\n",
        "  plt.xlabel('Epochs')\n",
        "  plt.xticks(xdisp)\n",
        "  plt.savefig('Losses', format='png')\n",
        "\n",
        "  plt.figure()\n",
        "  plt.plot(x, acc_train, 'r', label='Training accuracy')\n",
        "  plt.plot(x, acc_val, 'b', label='Test accuracy')\n",
        "  plt.legend()\n",
        "  plt.xticks(xdisp)\n",
        "  plt.xlabel('Epochs')\n"
      ],
      "execution_count": null,
      "outputs": []
    },
    {
      "cell_type": "markdown",
      "metadata": {
        "id": "OIDLJuIXK_vh"
      },
      "source": [
        "**Functions implementing the logic to load the database**"
      ]
    },
    {
      "cell_type": "code",
      "metadata": {
        "id": "uud3dMXANF-L"
      },
      "source": [
        "class Caltech(VisionDataset):\r\n",
        "\r\n",
        "    def __init__(self, root, split,stage=None, transform=None, target_transform=None):\r\n",
        "\r\n",
        "        self.images =[]\r\n",
        "        self.indexes = {}\r\n",
        "        super(Caltech, self).__init__(root, transform=transform, target_transform=target_transform)\r\n",
        "        self.split = split # This defines the split you are going to use\r\n",
        "                           # (split files are called 'train.txt' and 'test.txt')\r\n",
        "        skip = False\r\n",
        "        import os\r\n",
        "        self.path=root\r\n",
        "        self.split=split\r\n",
        "        if self.split=='train':\r\n",
        "          self.path=self.path+'/photo'\r\n",
        "        if self.split=='test':\r\n",
        "          self.path=self.path+'/art_painting'\r\n",
        "        if self.split=='val1':\r\n",
        "          self.path=self.path+'/cartoon'\r\n",
        "        if self.split=='val2':\r\n",
        "          self.path=self.path+'/sketch'\r\n",
        "        i=0\r\n",
        "        for obj in os.listdir(f'{self.path}'):\r\n",
        "          label=obj\r\n",
        "          for im in os.listdir(self.path+'/'+obj):\r\n",
        "              path=self.path+'/'+obj+'/'+im\r\n",
        "              image=pil_loader(path)\r\n",
        "              self.images.append((image, label))\r\n",
        "              if label not in self.indexes.keys():\r\n",
        "                self.indexes[label]=i\r\n",
        "                i += 1\r\n",
        "\r\n",
        "    def __getitem__(self, index):\r\n",
        "        image, label = self.images[index][0], self.indexes[self.images[index][1]]\r\n",
        "        if self.transform is not None:\r\n",
        "            image = self.transform(image)\r\n",
        "        return image, label\r\n",
        "\r\n",
        "    def __len__(self):\r\n",
        "        return len(self.images)"
      ],
      "execution_count": null,
      "outputs": []
    },
    {
      "cell_type": "markdown",
      "metadata": {
        "id": "fJEiYYlANP0A"
      },
      "source": [
        "**Functions that modify Alexnet**"
      ]
    },
    {
      "cell_type": "code",
      "metadata": {
        "id": "d5PkYfqfK_SA"
      },
      "source": [
        "__all__ = ['AlexNet', 'alexnet']\n",
        "\n",
        "\n",
        "def pil_loader(path):\n",
        "    with open(path, 'rb') as f:\n",
        "        img = Image.open(f)\n",
        "        return img.convert('RGB')\n",
        "\n",
        "model_urls = {\n",
        "    'alexnet': 'https://download.pytorch.org/models/alexnet-owt-4df8aa71.pth',\n",
        "}\n",
        "\n",
        "class ReverseLayerF(Function):\n",
        "    @staticmethod\n",
        "    def forward(ctx, x, alpha):\n",
        "        ctx.alpha = alpha\n",
        "        return x.view_as(x)\n",
        "    @staticmethod\n",
        "    def backward(ctx, grad_output):\n",
        "        output = grad_output.neg() * ctx.alpha\n",
        "        return output, None\n",
        "\n",
        "class AlexNet(nn.Module):\n",
        "\n",
        "    def __init__(self, num_classes=1000):\n",
        "\n",
        "        super(AlexNet, self).__init__()\n",
        "\n",
        "        self.features = nn.Sequential(\n",
        "            nn.Conv2d(3, 64, kernel_size=11, stride=4, padding=2),\n",
        "            nn.ReLU(inplace=True),\n",
        "            nn.MaxPool2d(kernel_size=3, stride=2),\n",
        "            nn.Conv2d(64, 192, kernel_size=5, padding=2),\n",
        "            nn.ReLU(inplace=True),\n",
        "            nn.MaxPool2d(kernel_size=3, stride=2),\n",
        "            nn.Conv2d(192, 384, kernel_size=3, padding=1),\n",
        "            nn.ReLU(inplace=True),\n",
        "            nn.Conv2d(384, 256, kernel_size=3, padding=1),\n",
        "            nn.ReLU(inplace=True),\n",
        "            nn.Conv2d(256, 256, kernel_size=3, padding=1),\n",
        "            nn.ReLU(inplace=True),\n",
        "            nn.MaxPool2d(kernel_size=3, stride=2),\n",
        "        )\n",
        "        self.avgpool = nn.AdaptiveAvgPool2d((6, 6))\n",
        "        self.classifier = nn.Sequential(\n",
        "            nn.Dropout(),\n",
        "            nn.Linear(256 * 6 * 6, 4096),\n",
        "            nn.ReLU(inplace=True),\n",
        "            nn.Dropout(),\n",
        "            nn.Linear(4096, 4096),\n",
        "            nn.ReLU(inplace=True),\n",
        "            nn.Linear(4096, num_classes),\n",
        "        )\n",
        "        self.classifier_d = nn.Sequential(\n",
        "            nn.Dropout(),\n",
        "            nn.Linear(256 * 6 * 6, 4096),\n",
        "            nn.ReLU(inplace=True),\n",
        "            nn.Dropout(),\n",
        "            nn.Linear(4096, 4096),\n",
        "            nn.ReLU(inplace=True),\n",
        "            nn.Linear(4096, 2))\n",
        "\n",
        "    def forward(self, x, training, alpha=None):\n",
        "        x = self.features(x)\n",
        "        x = self.avgpool(x)\n",
        "        x = torch.flatten(x, 1)\n",
        "        if training=='s':\n",
        "            x = self.classifier(x)\n",
        "        else:\n",
        "            if training=='d':\n",
        "                x = ReverseLayerF.apply(x, alpha)\n",
        "                x = self.classifier_d(x)\n",
        "        return x\n",
        "\n",
        "def alexnet(pretrained=False, progress=True, **kwargs):\n",
        "    \n",
        "    model = AlexNet(**kwargs)\n",
        "    if pretrained:\n",
        "        state_dict = load_state_dict_from_url(model_urls['alexnet'], progress=progress)\n",
        "        model.load_state_dict(state_dict, strict=False)\n",
        "        model.classifier_d[1].weight.data = model.classifier[1].weight.data\n",
        "        model.classifier_d[1].bias.data = model.classifier[1].bias.data\n",
        "        model.classifier_d[4].weight.data = model.classifier[4].weight.data\n",
        "        model.classifier_d[4].bias.data = model.classifier[4].bias.data\n",
        "        model.classifier_d[6].weight.data = model.classifier[6].weight.data\n",
        "        model.classifier_d[6].bias.data = model.classifier[6].bias.data\n",
        "    return model\n",
        "\n",
        "\n",
        "\n"
      ],
      "execution_count": null,
      "outputs": []
    },
    {
      "cell_type": "markdown",
      "metadata": {
        "id": "9gwii0TBHvzh"
      },
      "source": [
        "**Function that reads the dataset**"
      ]
    },
    {
      "cell_type": "code",
      "metadata": {
        "id": "ZzERshwINn7N"
      },
      "source": [
        "def init(pre_trained, batchsize, step=None):\r\n",
        "\r\n",
        "  if pre_trained==True:\r\n",
        "    train_transform = transforms.Compose([transforms.Resize(256),      \r\n",
        "                                        transforms.CenterCrop(224), \r\n",
        "                                        transforms.ToTensor(),\r\n",
        "                                        transforms.Normalize(mean=[0.485, 0.456, 0.406], std=[0.229, 0.224, 0.225]) \r\n",
        "    ])\r\n",
        "    eval_transform = transforms.Compose([transforms.Resize(256),\r\n",
        "                                        transforms.CenterCrop(224),\r\n",
        "                                        transforms.ToTensor(),\r\n",
        "                                        transforms.Normalize(mean=[0.485, 0.456, 0.406], std=[0.229, 0.224, 0.225])                                     \r\n",
        "    ])\r\n",
        "  if pre_trained==False:\r\n",
        "    train_transform = transforms.Compose([transforms.Resize(256),      \r\n",
        "                                        transforms.CenterCrop(224),\r\n",
        "                                        transforms.ToTensor(), \r\n",
        "                                        transforms.Normalize((0.5, 0.5, 0.5), (0.5, 0.5, 0.5))                                 \r\n",
        "    ])\r\n",
        "    eval_transform = transforms.Compose([transforms.Resize(256),\r\n",
        "                                        transforms.CenterCrop(224),\r\n",
        "                                        transforms.ToTensor(),\r\n",
        "                                        transforms.Normalize((0.5, 0.5, 0.5), (0.5, 0.5, 0.5))\r\n",
        "                                         ])\r\n",
        "\r\n",
        "  if not os.path.isdir('PACS'):\r\n",
        "    !git clone https://github.com/MachineLearning2020/Homework3-PACS.git\r\n",
        "    !mv 'Homework3-PACS' 'PACS'\r\n",
        "\r\n",
        "  if not os.path.isdir('./Caltech101'):\r\n",
        "    !git clone https://github.com/MachineLearning2020/Homework2-Caltech101.git\r\n",
        "    !mv 'Homework2-Caltech101' 'Caltech101'\r\n",
        "\r\n",
        "  DATA_DIR = 'PACS/PACS'\r\n",
        "\r\n",
        "  train = Caltech(DATA_DIR, split='train', transform=train_transform)\r\n",
        "  test= Caltech(DATA_DIR, split='test',  transform=eval_transform)\r\n",
        "  val1=Caltech(DATA_DIR, split='val1',  transform=eval_transform)\r\n",
        "  val2=Caltech(DATA_DIR, split='val2',  transform=eval_transform)\r\n",
        "\r\n",
        "  print('Train Dataset: {}'.format(len(train)))\r\n",
        "  print('Test Dataset: {}'.format(len(test)))\r\n",
        "  print('Val1 Dataset: {}'.format(len(val1)))\r\n",
        "  print('Val2 Dataset: {}'.format(len(val2)))\r\n",
        "\r\n",
        "  train_dataloader = DataLoader(train, batch_size=batchsize, shuffle=True, num_workers=4)\r\n",
        "  test_dataloader = DataLoader(test, batch_size=batchsize, shuffle=False, num_workers=4) \r\n",
        "  val1_dataloader=DataLoader(val1, batch_size=batchsize, shuffle=False, num_workers=4)\r\n",
        "  val2_dataloader=DataLoader(val2, batch_size=batchsize, shuffle=False, num_workers=4)\r\n",
        "\r\n",
        "  if pre_trained==True:\r\n",
        "    net=alexnet(pretrained=True)\r\n",
        "  else:\r\n",
        "    net = alexnet().cuda()\r\n",
        "  \r\n",
        "  net.classifier[6] = nn.Linear(4096, 7)\r\n",
        "\r\n",
        "  return net, train_dataloader, test_dataloader, val1_dataloader, val2_dataloader, train, test, val1, val2"
      ],
      "execution_count": null,
      "outputs": []
    },
    {
      "cell_type": "markdown",
      "metadata": {
        "id": "mxgNm4QuDxM2"
      },
      "source": [
        "**Training the network**"
      ]
    },
    {
      "cell_type": "code",
      "metadata": {
        "id": "QfVq_uDHLbsR"
      },
      "source": [
        "def train_net(net, layer, train_dataloader, test_dataloader, train_dataset, test_dataset, NUM_CLASSES, BATCH_SIZE,LR, MOMENTUM, WEIGHT_DECAY, NUM_EPOCHS, STEP_SIZE, GAMMA, LOG_FREQUENCY, alpha, discriminator=False, val1_dataloader=None, val2_dataloader=None, val1=None, val2=None, gammap=None):\n",
        "\n",
        "  criterion = nn.CrossEntropyLoss() \n",
        "\n",
        "  if layer=='all':\n",
        "    parameters_to_optimize = net.parameters() \n",
        "  if layer=='fully':\n",
        "    parameters_to_optimize=net.classifier.parameters()\n",
        "  if layer=='conv':\n",
        "    parameters_to_optimize=net.features.parameters()\n",
        "\n",
        "  optimizer = optim.SGD(parameters_to_optimize, lr=LR, momentum=MOMENTUM, weight_decay=WEIGHT_DECAY)\n",
        "  #optimizer = optim.Adam(parameters_to_optimize, lr=LR)\n",
        " \n",
        "  scheduler = optim.lr_scheduler.StepLR(optimizer, step_size=STEP_SIZE, gamma=GAMMA)\n",
        "  net = net.to(DEVICE)\n",
        "\n",
        "  loss_train=[]\n",
        "  loss_test=[]\n",
        "  acc_train=[]\n",
        "  acc_test=[]\n",
        "  loss_discriminator=[]\n",
        "  cudnn.benchmark \n",
        "\n",
        "  if discriminator==False:\n",
        "\n",
        "    for epoch in range(NUM_EPOCHS):\n",
        "      current_step = 0\n",
        "      print(f'epoch {epoch}')\n",
        "\n",
        "      running_corrects = 0\n",
        "      train_loss=0\n",
        "      \n",
        "      for images, labels in train_dataloader:\n",
        "          \n",
        "        images = images.to(DEVICE)\n",
        "        labels = labels.to(DEVICE)\n",
        "\n",
        "        net.train()\n",
        "        optimizer.zero_grad() \n",
        "\n",
        "        outputs = net(images, training=\"s\")\n",
        "        loss_1 = criterion(outputs, labels)\n",
        "        loss_1.backward()\n",
        "        train_loss+=loss_1.item()\n",
        "        _, preds = torch.max(outputs.data, 1)\n",
        "        running_corrects += torch.sum(preds == labels.data).data.item()\n",
        "\n",
        "        optimizer.step()\n",
        "      \n",
        "      acc=running_corrects/float(len(train_dataset))\n",
        "      loss=train_loss/float(len(train_dataloader))\n",
        "\n",
        "      acc_train.append(acc)\n",
        "      loss_train.append(loss)\n",
        "      '''\n",
        "      print(f'Training accuracy, {acc}')\n",
        "      print(f'Training loss, {loss}')\n",
        "      '''\n",
        "      net = net.to(DEVICE)\n",
        "      net.train(False)\n",
        "\n",
        "      running_corrects = 0\n",
        "      test_loss=0\n",
        "\n",
        "      for images, labels in test_dataloader:\n",
        "        \n",
        "        images = images.to(DEVICE)\n",
        "        labels = labels.to(DEVICE)\n",
        "        outputs = net(images, training=\"s\")\n",
        "        test_loss+= criterion(outputs, labels).item()\n",
        "        _, preds = torch.max(outputs.data, 1)\n",
        "        running_corrects += torch.sum(preds == labels.data).data.item()\n",
        "\n",
        "      accuracy = running_corrects / float(len(test_dataset))\n",
        "      loss=test_loss/float(len(test_dataloader))\n",
        "      '''\n",
        "      print(f'accuracy validation: {accuracy}')\n",
        "      print(f'Loss test: {loss}')\n",
        "      '''\n",
        "      acc_test.append(accuracy)\n",
        "      loss_test.append(loss)\n",
        "      \n",
        "    return acc_train, loss_train, acc_test, loss_test\n",
        "\n",
        "  else:\n",
        "\n",
        "    best_acc=0\n",
        "    for epoch in range(NUM_EPOCHS):\n",
        "\n",
        "      current_step = 0\n",
        "      print(f'epoch {epoch}')\n",
        "\n",
        "      running_corrects_train = 0\n",
        "      running_corrects_test= 0\n",
        "      train_loss=0\n",
        "      test_loss=0\n",
        "      loss_d=0\n",
        "\n",
        "      print(gammap)\n",
        "      rho=epoch/NUM_EPOCHS\n",
        "      print(rho)\n",
        "      alpha=2/(1+math.exp(-1*gammap*rho))-1\n",
        "      dataloader_iterator = iter(train_dataloader)\n",
        "\n",
        "      for images, labels in test_dataloader:\n",
        "\n",
        "        try: \n",
        "\n",
        "          images_train, labels_train=next(dataloader_iterator)\n",
        "          images_train = images_train.to(DEVICE)\n",
        "          labels_train = labels_train.to(DEVICE)\n",
        "          net.train() \n",
        "          optimizer.zero_grad()\n",
        "          outputs = net(images_train, training=\"s\")\n",
        "          loss_1 = criterion(outputs, labels_train)\n",
        "          loss_1.backward()\n",
        "          train_loss+=loss_1.item()\n",
        "          _, preds = torch.max(outputs.data, 1)\n",
        "          running_corrects_train += torch.sum(preds == labels_train.data).data.item()\n",
        "          labels_d = torch.tensor([0]*len(images_train)).to(DEVICE)\n",
        "          outputs = net(images_train, training=\"d\", alpha=alpha)\n",
        "          loss_2 = criterion(outputs, labels_d)\n",
        "          loss_d+=loss_2.item()\n",
        "          loss_2.backward()  \n",
        "        except:\n",
        "          pass\n",
        "\n",
        "        net.train()\n",
        "        images= images.to(DEVICE)\n",
        "        labels_di = torch.tensor([1]*len(images)).to(DEVICE)\n",
        "        outputs= net(images, training=\"d\", alpha=alpha)\n",
        "        loss_3 = criterion(outputs, labels_di)\n",
        "        loss_d+=loss_3.item()\n",
        "        loss_3.backward()\n",
        "        optimizer.step()\n",
        "        net.train(False)\n",
        "        labels = labels.to(DEVICE)\n",
        "        outputs = net(images, training=\"s\")\n",
        "        test_loss+= criterion(outputs, labels).item()\n",
        "        _, preds = torch.max(outputs.data, 1)\n",
        "        running_corrects_test += torch.sum(preds == labels.data).data.item()\n",
        "\n",
        "      accuracy = running_corrects_train / float(len(train_dataset))\n",
        "      loss=train_loss/float(len(train_dataloader))\n",
        "      loss_discriminator.append(loss_d/float(len(train_dataset)))\n",
        "      acc_train.append(accuracy)\n",
        "      loss_train.append(loss)\n",
        "      print(f'accuracy train: {accuracy}')\n",
        "      print(f'Loss train: {loss}')\n",
        "      print(f'Loss discriminator: {loss_d}')\n",
        "      print(f'Alpha: {alpha}')\n",
        "      accuracy = running_corrects_test / float(len(test_dataset))\n",
        "      if accuracy>best_acc:\n",
        "        best_acc=accuracy\n",
        "      loss=test_loss/float(len(test_dataloader))\n",
        "      acc_test.append(accuracy)\n",
        "      loss_test.append(loss)\n",
        "      print(f'accuracy test: {accuracy}')\n",
        "      print(f'Loss test: {loss}')\n",
        "\n",
        "        \n",
        "    print('best accuracy')\n",
        "    print(best_acc)    \n",
        "    return acc_train, loss_train, acc_test, loss_test, loss_discriminator\n",
        "\n",
        "\n"
      ],
      "execution_count": null,
      "outputs": []
    },
    {
      "cell_type": "markdown",
      "metadata": {
        "id": "a_lxbQFkN4Ge"
      },
      "source": [
        "**Hyperparameters**"
      ]
    },
    {
      "cell_type": "code",
      "metadata": {
        "id": "t3bbhRRMd_5O"
      },
      "source": [
        "DEVICE = 'cuda' \n",
        "NUM_CLASSES = 7 \n",
        "BATCH_SIZE = 32     \n",
        "LR = 1e-4 \n",
        "MOMENTUM = 0.9\n",
        "WEIGHT_DECAY = 5e-5 \n",
        "NUM_EPOCHS=30 \n",
        "STEP_SIZE=20      \n",
        "GAMMA = 0.1 \n",
        "LOG_FREQUENCY = 10\n",
        "typeNet='AlexNet'\n",
        "layer='all'\n",
        "gammap=0.5\n",
        "discriminator=False\n",
        "alpha=0.1"
      ],
      "execution_count": null,
      "outputs": []
    },
    {
      "cell_type": "markdown",
      "metadata": {
        "id": "V5MEkvxIOQcw"
      },
      "source": [
        "**Loading, training, evaluating, testing the network and plotting the loss and the accuracy**"
      ]
    },
    {
      "cell_type": "code",
      "metadata": {
        "id": "C56Wsu_cB77D"
      },
      "source": [
        "from sklearn.model_selection import ParameterGrid\r\n",
        "param_grid = {'LR': [1e-4, 1e-3, 1e-2], 'NUM_EPOCHS': [20, 35, 50]}"
      ],
      "execution_count": null,
      "outputs": []
    },
    {
      "cell_type": "markdown",
      "metadata": {
        "id": "q6SGF19BEhOr"
      },
      "source": [
        ""
      ]
    },
    {
      "cell_type": "code",
      "metadata": {
        "colab": {
          "background_save": true,
          "base_uri": "https://localhost:8080/"
        },
        "id": "h5AoX7xHOPFO",
        "outputId": "111a1ce8-263a-4259-b675-d96b977406db"
      },
      "source": [
        "from sklearn.model_selection import ParameterGrid\r\n",
        "param_grid = {'LR': [1e-4, 1e-3, 1e-2], 'NUM_EPOCHS': [20, 35, 50]}\r\n",
        "\r\n",
        "for p in list(ParameterGrid(param_grid)):  \r\n",
        "  net, train_dataloader, test_dataloader, val1_dataloader, val2_dataloader, train, test, val1, val2=init(True, BATCH_SIZE)\r\n",
        "  acc_train, loss_train, acc_test, loss_test,=train_net(net, layer, train_dataloader, test_dataloader, train, test, NUM_CLASSES, BATCH_SIZE,p['LR'], MOMENTUM, WEIGHT_DECAY, p['NUM_EPOCHS'], STEP_SIZE, GAMMA, LOG_FREQUENCY, alpha, discriminator, val1_dataloader, val2_dataloader, val1, val2, gammap)\r\n",
        "  print(p)\r\n",
        "  print('loss train, loss_test, acc_train, acc_test')\r\n",
        "  print(loss_train[-1], loss_test[-1], acc_train[-1], acc_test[-1]) \r\n",
        "  plotting(loss_train, loss_test, acc_train, acc_test)\r\n",
        "#net.classifier[6]=nn.Linear(4096,7)\r\n",
        "#torch.nn.init.xavier_uniform(net.classifier[6].weight)\r\n",
        "\r\n",
        "\r\n"
      ],
      "execution_count": null,
      "outputs": [
        {
          "output_type": "stream",
          "text": [
            "Train Dataset: 1670\n",
            "Test Dataset: 2048\n",
            "Val1 Dataset: 2344\n",
            "Val2 Dataset: 3929\n",
            "{'LR': 0.0001, 'NUM_EPOCHS': 20}\n",
            "loss train, loss_test, acc_train, acc_test\n",
            "0.022887273568589734 4.51480142893018 0.9952095808383233 0.24267578125\n",
            "Train Dataset: 1670\n",
            "Test Dataset: 2048\n",
            "Val1 Dataset: 2344\n",
            "Val2 Dataset: 3929\n",
            "{'LR': 0.0001, 'NUM_EPOCHS': 35}\n",
            "loss train, loss_test, acc_train, acc_test\n",
            "0.01168618131569534 4.641700630856527 0.9976047904191617 0.26611328125\n",
            "Train Dataset: 1670\n",
            "Test Dataset: 2048\n",
            "Val1 Dataset: 2344\n",
            "Val2 Dataset: 3929\n",
            "{'LR': 1e-05, 'NUM_EPOCHS': 20}\n",
            "loss train, loss_test, acc_train, acc_test\n",
            "0.18718441308669323 2.8195097815950176 0.9449101796407186 0.21142578125\n",
            "Train Dataset: 1670\n",
            "Test Dataset: 2048\n",
            "Val1 Dataset: 2344\n",
            "Val2 Dataset: 3929\n",
            "{'LR': 1e-05, 'NUM_EPOCHS': 35}\n",
            "loss train, loss_test, acc_train, acc_test\n",
            "0.11188308989523717 3.024567912861302 0.9700598802395209 0.22412109375\n"
          ],
          "name": "stdout"
        },
        {
          "output_type": "display_data",
          "data": {
            "image/png": "[encoded data removed]",
            "text/plain": [
              "<Figure size 432x288 with 1 Axes>"
            ]
          },
          "metadata": {
            "tags": []
          }
        },
        {
          "output_type": "display_data",
          "data": {
            "image/png": "[encoded data removed]",
            "text/plain": [
              "<Figure size 432x288 with 1 Axes>"
            ]
          },
          "metadata": {
            "tags": []
          }
        },
        {
          "output_type": "display_data",
          "data": {
            "image/png": "[encoded data removed]",
            "text/plain": [
              "<Figure size 432x288 with 1 Axes>"
            ]
          },
          "metadata": {
            "tags": []
          }
        },
        {
          "output_type": "display_data",
          "data": {
            "image/png": "[encoded data removed]",
            "text/plain": [
              "<Figure size 432x288 with 1 Axes>"
            ]
          },
          "metadata": {
            "tags": []
          }
        },
        {
          "output_type": "display_data",
          "data": {
            "image/png": "[encoded data removed]",
            "text/plain": [
              "<Figure size 432x288 with 1 Axes>"
            ]
          },
          "metadata": {
            "tags": []
          }
        },
        {
          "output_type": "display_data",
          "data": {
            "image/png": "[encoded data removed]",
            "text/plain": [
              "<Figure size 432x288 with 1 Axes>"
            ]
          },
          "metadata": {
            "tags": []
          }
        },
        {
          "output_type": "display_data",
          "data": {
            "image/png": "[encoded data removed]",
            "text/plain": [
              "<Figure size 432x288 with 1 Axes>"
            ]
          },
          "metadata": {
            "tags": []
          }
        },
        {
          "output_type": "display_data",
          "data": {
            "image/png": "[encoded data removed]",
            "text/plain": [
              "<Figure size 432x288 with 1 Axes>"
            ]
          },
          "metadata": {
            "tags": []
          }
        }
      ]
    }
  ]
}